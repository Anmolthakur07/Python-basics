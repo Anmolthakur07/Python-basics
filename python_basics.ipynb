{
  "nbformat": 4,
  "nbformat_minor": 0,
  "metadata": {
    "colab": {
      "provenance": []
    },
    "kernelspec": {
      "name": "python3",
      "display_name": "Python 3"
    },
    "language_info": {
      "name": "python"
    }
  },
  "cells": [
    {
      "cell_type": "code",
      "execution_count": null,
      "metadata": {
        "id": "NwxVbcV2vac-"
      },
      "outputs": [],
      "source": []
    },
    {
      "cell_type": "markdown",
      "source": [
        "# Python Basics\n",
        "\n",
        "1. What is Python, and why is it popular?\n",
        "\n",
        " - Python is programming language. and it is popular because it's easy to learn, versatile and has many libraries. It's used for many applications including web development data science and machine learning.\n",
        "2. What is an interpreter in Python?\n",
        "\n",
        " - Python interpreter is a program that read and execute the python code. it translate the pyhton code into machine code, so that computer can understand and execute it.\n",
        "3. What are pre-defined keywords in Python?\n",
        "\n",
        " - A keyword refers to a predefined word that python reserves for working programs that have a specific meaning.These keyword can't be use anywhere else. Python Identifiers are the different values that a programmer can use to define various variables, integers, functions, and classes.\n",
        "4. Can keywords be used as variable names?\n",
        "\n",
        " - No' keywords can't be used as variable names. beacuse they have special meanings and purpose in programming language. Keywords define the language's syntax rules and structure.\n",
        "5. What is mutability in Python?\n",
        "\n",
        "  - In python mutability is the ability of an object to change after it has been created. Mutable objects can be modified in terms of their state or contents.\n",
        "6. Why are lists mutable, but tuples are immutable?\n",
        "\n",
        "  - Lists are mutable because you can change the order of items in a list or reassign an item in a list. Define tuples as lists that we cannot change. Therefore, we can call them immutable tuples. tuples are not modifiable in nature.\n",
        "7. What is the difference between “==” and “is” operators in Python?\n",
        "\n",
        " - In Python, the == operator compares the values of two objects, while the is operator compares whether two variables point to the same object.\n",
        "8. What are logical operators in Python?\n",
        "\n",
        " - Logical operators in Python are symbols or words that combine multiple conditions into a single boolean expression.\n",
        "9. What is type casting in Python?\n",
        "\n",
        " - Type casting is the process changing variable's data type to another in python. Type casting is also known as type conversion.\n",
        "10. What is the difference between implicit and explicit type casting?\n",
        "\n",
        " - In Implicit type casting the compiler or imnterpreter automatically convert one data type to another without any code notation. this is often invisible to the user. It used to convert smaller data type to larger one without loosing precision. for example: converting a short integer value to a long integer value.\n",
        " - In Explicit type casting the programmer manually define the type conversion. this is visible in the source code. It used when there's possbility of data loss.For example: converting a larger type to a smaller size type.\n",
        "11. What is the purpose of conditional statements in Python?\n",
        "\n",
        "  - In python the control statement used to control the flow of a program by deciding which part of the code to run based on certain conditions. They help to make programs more efficient.\n",
        "12. How does the elif statement work?\n",
        "  - The “elif” keyword in Python, stands for “else if”. It can be used in conditional statements to check for multiple conditions. For example, if the first condition is false it moves on to the next “elif” statement to check if that condition is true.\n",
        "13. What is the difference between for and while loops?\n",
        "  - For loop\n",
        "Used to repeat a section of code a known number of times\n",
        "Iterates over a sequence, such as a list, tuple, or string\n",
        "Always followed by initialization, expression, and increment statements.\n",
        "  - While loop\n",
        "Used to repeat a section of code an unknown number of times until a specific condition is met\n",
        "Executes a block of code as long as a specified condition is true\n",
        "Useful when you don't know in advance how many times the loop will iterate.\n",
        " - The main difference between a for loop and a while loop is the number of times the code is repeated. A for loop is used when the number of iterations is known, while a while loop is used when the number of iterations is unknown.\n",
        "14. Describe a scenario where a while loop is more suitable than a for loop.\n",
        " - 'while' loop is ideal for situations where the number of iterations is not predetermined and depends on some dynamic condition.\n",
        " - In contrast to a 'for' loop, which is generally used when the number of iterations is known beforehand.\n",
        "\n",
        "\n",
        "\n",
        "\n"
      ],
      "metadata": {
        "id": "eE7l6sojBtLP"
      }
    },
    {
      "cell_type": "markdown",
      "source": [
        "# Practical Questions\n"
      ],
      "metadata": {
        "id": "F9Kkjl6qM1MA"
      }
    },
    {
      "cell_type": "code",
      "source": [
        "# 1. Write a Python program to print \"Hello, World!\"\n",
        "\n",
        "print (\"hello world!\")\n",
        "\n",
        "\n"
      ],
      "metadata": {
        "colab": {
          "base_uri": "https://localhost:8080/"
        },
        "id": "InDHVMUsFQDF",
        "outputId": "7462badb-0ff5-44f2-9065-bb6e1f53f5fe"
      },
      "execution_count": 1,
      "outputs": [
        {
          "output_type": "stream",
          "name": "stdout",
          "text": [
            "hello world!\n"
          ]
        }
      ]
    },
    {
      "cell_type": "code",
      "source": [
        "# 2. Write a Python program that displays your name and age\n",
        "Name = input(\"Enter Name:\")\n",
        "Age = input(\"Enter age:\")\n",
        "print(\"Hii,My name is \" + Name + \" and i am \" + Age + \" years old:\")"
      ],
      "metadata": {
        "colab": {
          "base_uri": "https://localhost:8080/"
        },
        "id": "h7CxLBTRHfae",
        "outputId": "8f32c24e-c652-4f9a-87b8-e3d63491a8ff"
      },
      "execution_count": 7,
      "outputs": [
        {
          "output_type": "stream",
          "name": "stdout",
          "text": [
            "Enter Name:Anmol Thakur\n",
            "Enter age:21 \n",
            "Hii,My name is Anmol Thakur and i am 21  years old:\n"
          ]
        }
      ]
    },
    {
      "cell_type": "code",
      "source": [
        "3. #Write code to print all the pre-defined keywords in Python using the keyword library\n",
        "\n",
        "import keyword\n",
        "\n",
        "print(keyword.kwlist)\n"
      ],
      "metadata": {
        "colab": {
          "base_uri": "https://localhost:8080/"
        },
        "id": "DIRAQDQtLlbp",
        "outputId": "a491879b-7d1c-43ed-f425-1bb4a06ce600"
      },
      "execution_count": 9,
      "outputs": [
        {
          "output_type": "stream",
          "name": "stdout",
          "text": [
            "['False', 'None', 'True', 'and', 'as', 'assert', 'async', 'await', 'break', 'class', 'continue', 'def', 'del', 'elif', 'else', 'except', 'finally', 'for', 'from', 'global', 'if', 'import', 'in', 'is', 'lambda', 'nonlocal', 'not', 'or', 'pass', 'raise', 'return', 'try', 'while', 'with', 'yield']\n"
          ]
        }
      ]
    },
    {
      "cell_type": "code",
      "source": [
        "4. #Write a program that checks if a given word is a Python keyword.\n",
        "\n",
        "import keyword\n",
        "\n",
        "# Function to check if a word is a Python keyword\n",
        "def is_python_keyword(word):\n",
        "    if keyword.iskeyword(word):\n",
        "        return True\n",
        "    else:\n",
        "        return False\n",
        "\n",
        "# Get user input\n",
        "word = input(\"Enter a word to check if it is a Python keyword: \")\n",
        "\n",
        "# Check and display result\n",
        "if is_python_keyword(word):\n",
        "    print(f\"'{word}' is a Python keyword.\")\n",
        "else:\n",
        "    print(f\"'{word}' is not a Python keyword.\")\n"
      ],
      "metadata": {
        "colab": {
          "base_uri": "https://localhost:8080/"
        },
        "id": "1ylrn8p-N8OX",
        "outputId": "e4b9dec6-840b-49d2-c9b5-e087583fc436"
      },
      "execution_count": 12,
      "outputs": [
        {
          "output_type": "stream",
          "name": "stdout",
          "text": [
            "Enter a word to check if it is a Python keyword: as\n",
            "'as' is a Python keyword.\n"
          ]
        }
      ]
    },
    {
      "cell_type": "code",
      "source": [
        "5. #Create a list and tuple in Python, and demonstrate how attempting to change an element works differently\n",
        "# for each\n",
        "# Creating a list\n",
        "my_list = [1, 2, 3, 4, 5]\n",
        "\n",
        "# Attempt to change an element in the list\n",
        "print(\"Original list:\", my_list)\n",
        "my_list[2] = 10  # Changing the element at index 2\n",
        "print(\"Updated list:\", my_list)\n",
        "\n",
        "# Creating a tuple\n",
        "my_tuple = (1, 2, 3, 4, 5)\n",
        "\n",
        "# Attempt to change an element in the tuple (This will cause an error)\n",
        "print(\"\\nOriginal tuple:\", my_tuple)\n",
        "try:\n",
        "    my_tuple[2] = 10  # Attempting to change the element at index 2\n",
        "except TypeError as e:\n",
        "    print(\"Error:\", e)\n",
        "\n",
        "\n"
      ],
      "metadata": {
        "colab": {
          "base_uri": "https://localhost:8080/"
        },
        "id": "XRHYCgKuQR_M",
        "outputId": "c33a7362-c159-479e-a92a-db954c77767d"
      },
      "execution_count": 14,
      "outputs": [
        {
          "output_type": "stream",
          "name": "stdout",
          "text": [
            "Original list: [1, 2, 3, 4, 5]\n",
            "Updated list: [1, 2, 10, 4, 5]\n",
            "\n",
            "Original tuple: (1, 2, 3, 4, 5)\n",
            "Error: 'tuple' object does not support item assignment\n"
          ]
        }
      ]
    },
    {
      "cell_type": "code",
      "source": [
        "6. #Write a function to demonstrate the behavior of mutable and immutable arguments\n",
        "def demonstrate_mutable_immutable(immutable_arg, mutable_arg):\n",
        "    print(\"Before modification:\")\n",
        "    print(f\"Immutable argument: {immutable_arg}\")\n",
        "    print(f\"Mutable argument: {mutable_arg}\")\n",
        "\n",
        "    # Modifying the immutable argument\n",
        "    immutable_arg += 10  # This creates a new integer object\n",
        "\n",
        "    # Modifying the mutable argument\n",
        "    mutable_arg.append(4)  # This modifies the existing list object\n",
        "\n",
        "    print(\"After modification:\")\n",
        "    print(f\"Immutable argument: {immutable_arg}\")\n",
        "    print(f\"Mutable argument: {mutable_arg}\")\n",
        "\n",
        "# Testing the function\n",
        "immutable_val = 5  # Immutable (integer)\n",
        "mutable_val = [1, 2, 3]  # Mutable (list)\n",
        "\n",
        "demonstrate_mutable_immutable(immutable_val, mutable_val)\n",
        "\n",
        "print(\"Outside function:\")\n",
        "print(f\"Immutable value: {immutable_val}\")  # Unchanged\n",
        "print(f\"Mutable value: {mutable_val}\")  # Changed\n",
        "\n"
      ],
      "metadata": {
        "colab": {
          "base_uri": "https://localhost:8080/"
        },
        "id": "EPdKHcUwRqLv",
        "outputId": "54895f0c-0360-4758-9c48-036fc251080d"
      },
      "execution_count": 17,
      "outputs": [
        {
          "output_type": "stream",
          "name": "stdout",
          "text": [
            "Before modification:\n",
            "Immutable argument: 5\n",
            "Mutable argument: [1, 2, 3]\n",
            "After modification:\n",
            "Immutable argument: 15\n",
            "Mutable argument: [1, 2, 3, 4]\n",
            "Outside function:\n",
            "Immutable value: 5\n",
            "Mutable value: [1, 2, 3, 4]\n"
          ]
        }
      ]
    },
    {
      "cell_type": "code",
      "source": [
        "7. #Write a program that performs basic arithmetic operations on two user-input numbers\n",
        "def arithmetic_operations():\n",
        "    try:\n",
        "        num1 = float(input(\"Enter first number: \"))\n",
        "        num2 = float(input(\"Enter second number: \"))\n",
        "\n",
        "        print(f\"Addition: {num1} + {num2} = {num1 + num2}\")\n",
        "        print(f\"Subtraction: {num1} - {num2} = {num1 - num2}\")\n",
        "        print(f\"Multiplication: {num1} * {num2} = {num1 * num2}\")\n",
        "\n",
        "        if num2 != 0:\n",
        "            print(f\"Division: {num1} / {num2} = {num1 / num2}\")\n",
        "        else:\n",
        "            print(\"Division by zero is not allowed.\")\n",
        "    except ValueError:\n",
        "        print(\"Invalid input! Please enter numeric values.\")\n",
        "\n",
        "# Run the function\n",
        "arithmetic_operations()\n"
      ],
      "metadata": {
        "colab": {
          "base_uri": "https://localhost:8080/"
        },
        "id": "jJ3wzW5zSobP",
        "outputId": "0d73df04-6cc1-45d8-f90a-3334a651723e"
      },
      "execution_count": 18,
      "outputs": [
        {
          "output_type": "stream",
          "name": "stdout",
          "text": [
            "Enter first number: 1.2\n",
            "Enter second number: 2.1\n",
            "Addition: 1.2 + 2.1 = 3.3\n",
            "Subtraction: 1.2 - 2.1 = -0.9000000000000001\n",
            "Multiplication: 1.2 * 2.1 = 2.52\n",
            "Division: 1.2 / 2.1 = 0.5714285714285714\n"
          ]
        }
      ]
    },
    {
      "cell_type": "code",
      "source": [
        "8. #Write a program to demonstrate the use of logical operators.\n",
        "def logical_operators_demo():\n",
        "    a = int(input(\"Enter first number: \"))\n",
        "    b = int(input(\"Enter second number: \"))\n",
        "\n",
        "    print(f\"a > 0 and b > 0: {a > 0 and b > 0}\")\n",
        "    print(f\"a > 0 or b > 0: {a > 0 or b > 0}\")\n",
        "    print(f\"not (a > 0): {not (a > 0)}\")\n",
        "    print(f\"not (b > 0): {not (b > 0)}\")\n",
        "\n",
        "# Run the function\n",
        "logical_operators_demo()\n"
      ],
      "metadata": {
        "colab": {
          "base_uri": "https://localhost:8080/"
        },
        "id": "-zpvLL61TMsH",
        "outputId": "f2f80fb4-5a76-4bee-a5b6-b63b8635b723"
      },
      "execution_count": 21,
      "outputs": [
        {
          "output_type": "stream",
          "name": "stdout",
          "text": [
            "Enter first number: 2\n",
            "Enter second number: 3\n",
            "a > 0 and b > 0: True\n",
            "a > 0 or b > 0: True\n",
            "not (a > 0): False\n",
            "not (b > 0): False\n"
          ]
        }
      ]
    },
    {
      "cell_type": "code",
      "source": [
        "9. #Write a Python program to convert user input from string to integer, float, and boolean types.\n",
        "def convert_user_input():\n",
        "    user_input = input(\"Enter a value: \")\n",
        "\n",
        "    try:\n",
        "        int_value = int(user_input)\n",
        "        print(f\"Integer conversion: {int_value} (Type: {type(int_value)})\")\n",
        "    except ValueError:\n",
        "        print(\"Cannot convert to integer.\")\n",
        "\n",
        "    try:\n",
        "        float_value = float(user_input)\n",
        "        print(f\"Float conversion: {float_value} (Type: {type(float_value)})\")\n",
        "    except ValueError:\n",
        "        print(\"Cannot convert to float.\")\n",
        "\n",
        "    bool_value = bool(user_input)\n",
        "    print(f\"Boolean conversion: {bool_value} (Type: {type(bool_value)})\")\n",
        "    # Run the function\n",
        "convert_user_input()\n",
        "\n"
      ],
      "metadata": {
        "colab": {
          "base_uri": "https://localhost:8080/"
        },
        "id": "TTy0bywMTvRe",
        "outputId": "4645e705-1699-4b31-cde5-671a5db6cd79"
      },
      "execution_count": 24,
      "outputs": [
        {
          "output_type": "stream",
          "name": "stdout",
          "text": [
            "Enter a value: 2\n",
            "Integer conversion: 2 (Type: <class 'int'>)\n",
            "Float conversion: 2.0 (Type: <class 'float'>)\n",
            "Boolean conversion: True (Type: <class 'bool'>)\n"
          ]
        }
      ]
    },
    {
      "cell_type": "code",
      "source": [
        "10. #Write code to demonstrate type casting with list elements.\n",
        "def type_casting_list():\n",
        "    str_list = [\"1\", \"2\", \"3.5\", \"4.8\", \"True\", \"False\"]\n",
        "\n",
        "    int_list = []\n",
        "    float_list = []\n",
        "    bool_list = []\n",
        "\n",
        "    for item in str_list:\n",
        "        try:\n",
        "            int_list.append(int(float(item)))  # Convert to float first to handle decimal strings\n",
        "        except ValueError:\n",
        "            int_list.append(None)\n",
        "\n",
        "        try:\n",
        "            float_list.append(float(item))\n",
        "        except ValueError:\n",
        "            float_list.append(None)\n",
        "\n",
        "        bool_list.append(bool(item))\n",
        "\n",
        "    print(f\"Original List: {str_list}\")\n",
        "    print(f\"Integer List: {int_list}\")\n",
        "    print(f\"Float List: {float_list}\")\n",
        "    print(f\"Boolean List: {bool_list}\")\n",
        "\n",
        "# Run the function\n",
        "type_casting_list()"
      ],
      "metadata": {
        "colab": {
          "base_uri": "https://localhost:8080/"
        },
        "id": "BO6vg4rBUpCX",
        "outputId": "860fb5d2-b11b-489a-8ac6-18f4e7e419c0"
      },
      "execution_count": 25,
      "outputs": [
        {
          "output_type": "stream",
          "name": "stdout",
          "text": [
            "Original List: ['1', '2', '3.5', '4.8', 'True', 'False']\n",
            "Integer List: [1, 2, 3, 4, None, None]\n",
            "Float List: [1.0, 2.0, 3.5, 4.8, None, None]\n",
            "Boolean List: [True, True, True, True, True, True]\n"
          ]
        }
      ]
    },
    {
      "cell_type": "code",
      "source": [
        "11. #Write a program that checks if a number is positive, negative, or zero.\n",
        "def check_number():\n",
        "    try:\n",
        "        num = float(input(\"Enter a number: \"))\n",
        "\n",
        "        if num > 0:\n",
        "            print(\"The number is positive.\")\n",
        "        elif num < 0:\n",
        "            print(\"The number is negative.\")\n",
        "        else:\n",
        "            print(\"The number is zero.\")\n",
        "    except ValueError:\n",
        "        print(\"Invalid input! Please enter a numeric value.\")\n",
        "\n",
        "# Run the function\n",
        "check_number()"
      ],
      "metadata": {
        "colab": {
          "base_uri": "https://localhost:8080/"
        },
        "id": "r6bO--igU3p1",
        "outputId": "63429a91-a48b-4a90-a789-1cdd2e80d759"
      },
      "execution_count": 27,
      "outputs": [
        {
          "output_type": "stream",
          "name": "stdout",
          "text": [
            "Enter a number: 2\n",
            "The number is positive.\n"
          ]
        }
      ]
    },
    {
      "cell_type": "code",
      "source": [
        "12. #Write a for loop to print numbers from 1 to 10.\n",
        "for num in range(1, 11):\n",
        "    print(num)"
      ],
      "metadata": {
        "colab": {
          "base_uri": "https://localhost:8080/"
        },
        "id": "JlcuIH2HVNyg",
        "outputId": "b09b90b9-ac5e-4818-e4a4-692616eb9f8d"
      },
      "execution_count": 28,
      "outputs": [
        {
          "output_type": "stream",
          "name": "stdout",
          "text": [
            "1\n",
            "2\n",
            "3\n",
            "4\n",
            "5\n",
            "6\n",
            "7\n",
            "8\n",
            "9\n",
            "10\n"
          ]
        }
      ]
    },
    {
      "cell_type": "code",
      "source": [
        "13. #Write a Python program to find the sum of all even numbers between 1 and 50\n",
        "def sum_even_numbers():\n",
        "    even_sum = sum(num for num in range(1, 51) if num % 2 == 0)\n",
        "    print(f\"The sum of all even numbers between 1 and 50 is: {even_sum}\")\n",
        "\n",
        "# Run the function\n",
        "sum_even_numbers()\n"
      ],
      "metadata": {
        "colab": {
          "base_uri": "https://localhost:8080/"
        },
        "id": "mbwpMbMgVadu",
        "outputId": "821aa6f9-651b-4def-b84a-e8bf7da0aee7"
      },
      "execution_count": 29,
      "outputs": [
        {
          "output_type": "stream",
          "name": "stdout",
          "text": [
            "The sum of all even numbers between 1 and 50 is: 650\n"
          ]
        }
      ]
    },
    {
      "cell_type": "code",
      "source": [
        "14. #Write a program to reverse a string using a while loop.\n",
        "def reverse_string():\n",
        "    user_input = input(\"Enter a string: \")\n",
        "    reversed_str = \"\"\n",
        "    index = len(user_input) - 1\n",
        "\n",
        "    while index >= 0:\n",
        "        reversed_str += user_input[index]\n",
        "        index -= 1\n",
        "\n",
        "    print(f\"Reversed string: {reversed_str}\")\n",
        "\n",
        "# Run the function\n",
        "reverse_string()"
      ],
      "metadata": {
        "colab": {
          "base_uri": "https://localhost:8080/"
        },
        "id": "wmNqVBOjVoQk",
        "outputId": "d2f1f2f2-a8dc-4482-f0dd-d50a949f0ee7"
      },
      "execution_count": 30,
      "outputs": [
        {
          "output_type": "stream",
          "name": "stdout",
          "text": [
            "Enter a string: anmol\n",
            "Reversed string: lomna\n"
          ]
        }
      ]
    },
    {
      "cell_type": "code",
      "source": [
        "15. #Write a Python program to calculate the factorial of a number provided by the user using a while loop\n",
        "def factorial_while():\n",
        "    try:\n",
        "        num = int(input(\"Enter a number: \"))\n",
        "        if num < 0:\n",
        "            print(\"Factorial is not defined for negative numbers.\")\n",
        "            return\n",
        "\n",
        "        factorial = 1\n",
        "        i = num\n",
        "        while i > 0:\n",
        "            factorial *= i\n",
        "            i -= 1\n",
        "\n",
        "        print(f\"Factorial of {num} is {factorial}\")\n",
        "    except ValueError:\n",
        "        print(\"Invalid input! Please enter an integer.\")\n",
        "\n",
        "# Run the function\n",
        "factorial_while()\n"
      ],
      "metadata": {
        "colab": {
          "base_uri": "https://localhost:8080/"
        },
        "id": "avJiNhjEWC0z",
        "outputId": "f4bce0e5-d530-495c-e2d7-4b62c0a380d5"
      },
      "execution_count": 31,
      "outputs": [
        {
          "output_type": "stream",
          "name": "stdout",
          "text": [
            "Enter a number: 2\n",
            "Factorial of 2 is 2\n"
          ]
        }
      ]
    }
  ]
}